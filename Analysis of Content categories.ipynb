{
 "cells": [
  {
   "cell_type": "code",
   "execution_count": 76,
   "id": "9989be45",
   "metadata": {},
   "outputs": [],
   "source": [
    "import pandas as pd"
   ]
  },
  {
   "cell_type": "code",
   "execution_count": 77,
   "id": "8158f119",
   "metadata": {},
   "outputs": [],
   "source": [
    "Content = pd.read_csv(r\"C:\\Users\\ayode\\OneDrive\\Desktop\\Content_data.csv\")"
   ]
  },
  {
   "cell_type": "code",
   "execution_count": 78,
   "id": "e67a07de",
   "metadata": {},
   "outputs": [
    {
     "data": {
      "text/html": [
       "<div>\n",
       "<style scoped>\n",
       "    .dataframe tbody tr th:only-of-type {\n",
       "        vertical-align: middle;\n",
       "    }\n",
       "\n",
       "    .dataframe tbody tr th {\n",
       "        vertical-align: top;\n",
       "    }\n",
       "\n",
       "    .dataframe thead th {\n",
       "        text-align: right;\n",
       "    }\n",
       "</style>\n",
       "<table border=\"1\" class=\"dataframe\">\n",
       "  <thead>\n",
       "    <tr style=\"text-align: right;\">\n",
       "      <th></th>\n",
       "      <th>Unnamed: 0</th>\n",
       "      <th>Content ID</th>\n",
       "      <th>User ID</th>\n",
       "      <th>Type</th>\n",
       "      <th>Category</th>\n",
       "      <th>URL</th>\n",
       "    </tr>\n",
       "  </thead>\n",
       "  <tbody>\n",
       "    <tr>\n",
       "      <th>0</th>\n",
       "      <td>0</td>\n",
       "      <td>97522e57-d9ab-4bd6-97bf-c24d952602d2</td>\n",
       "      <td>8d3cd87d-8a31-4935-9a4f-b319bfe05f31</td>\n",
       "      <td>photo</td>\n",
       "      <td>Studying</td>\n",
       "      <td>https://socialbuzz.cdn.com/content/storage/975...</td>\n",
       "    </tr>\n",
       "    <tr>\n",
       "      <th>1</th>\n",
       "      <td>1</td>\n",
       "      <td>9f737e0a-3cdd-4d29-9d24-753f4e3be810</td>\n",
       "      <td>beb1f34e-7870-46d6-9fc7-2e12eb83ce43</td>\n",
       "      <td>photo</td>\n",
       "      <td>healthy eating</td>\n",
       "      <td>https://socialbuzz.cdn.com/content/storage/9f7...</td>\n",
       "    </tr>\n",
       "    <tr>\n",
       "      <th>2</th>\n",
       "      <td>2</td>\n",
       "      <td>230c4e4d-70c3-461d-b42c-ec09396efb3f</td>\n",
       "      <td>a5c65404-5894-4b87-82f2-d787cbee86b4</td>\n",
       "      <td>photo</td>\n",
       "      <td>healthy eating</td>\n",
       "      <td>https://socialbuzz.cdn.com/content/storage/230...</td>\n",
       "    </tr>\n",
       "    <tr>\n",
       "      <th>3</th>\n",
       "      <td>3</td>\n",
       "      <td>356fff80-da4d-4785-9f43-bc1261031dc6</td>\n",
       "      <td>9fb4ce88-fac1-406c-8544-1a899cee7aaf</td>\n",
       "      <td>photo</td>\n",
       "      <td>technology</td>\n",
       "      <td>https://socialbuzz.cdn.com/content/storage/356...</td>\n",
       "    </tr>\n",
       "    <tr>\n",
       "      <th>4</th>\n",
       "      <td>4</td>\n",
       "      <td>01ab84dd-6364-4236-abbb-3f237db77180</td>\n",
       "      <td>e206e31b-5f85-4964-b6ea-d7ee5324def1</td>\n",
       "      <td>video</td>\n",
       "      <td>food</td>\n",
       "      <td>https://socialbuzz.cdn.com/content/storage/01a...</td>\n",
       "    </tr>\n",
       "  </tbody>\n",
       "</table>\n",
       "</div>"
      ],
      "text/plain": [
       "   Unnamed: 0                            Content ID  \\\n",
       "0           0  97522e57-d9ab-4bd6-97bf-c24d952602d2   \n",
       "1           1  9f737e0a-3cdd-4d29-9d24-753f4e3be810   \n",
       "2           2  230c4e4d-70c3-461d-b42c-ec09396efb3f   \n",
       "3           3  356fff80-da4d-4785-9f43-bc1261031dc6   \n",
       "4           4  01ab84dd-6364-4236-abbb-3f237db77180   \n",
       "\n",
       "                                User ID   Type        Category  \\\n",
       "0  8d3cd87d-8a31-4935-9a4f-b319bfe05f31  photo        Studying   \n",
       "1  beb1f34e-7870-46d6-9fc7-2e12eb83ce43  photo  healthy eating   \n",
       "2  a5c65404-5894-4b87-82f2-d787cbee86b4  photo  healthy eating   \n",
       "3  9fb4ce88-fac1-406c-8544-1a899cee7aaf  photo      technology   \n",
       "4  e206e31b-5f85-4964-b6ea-d7ee5324def1  video            food   \n",
       "\n",
       "                                                 URL  \n",
       "0  https://socialbuzz.cdn.com/content/storage/975...  \n",
       "1  https://socialbuzz.cdn.com/content/storage/9f7...  \n",
       "2  https://socialbuzz.cdn.com/content/storage/230...  \n",
       "3  https://socialbuzz.cdn.com/content/storage/356...  \n",
       "4  https://socialbuzz.cdn.com/content/storage/01a...  "
      ]
     },
     "execution_count": 78,
     "metadata": {},
     "output_type": "execute_result"
    }
   ],
   "source": [
    "Content.head()"
   ]
  },
  {
   "cell_type": "code",
   "execution_count": 79,
   "id": "0130d56d",
   "metadata": {},
   "outputs": [],
   "source": [
    "# To drop the unwanted colums\n",
    "Content.drop(['User ID', 'URL'], axis=1, inplace=True)"
   ]
  },
  {
   "cell_type": "code",
   "execution_count": 80,
   "id": "25df2855",
   "metadata": {},
   "outputs": [
    {
     "data": {
      "text/html": [
       "<div>\n",
       "<style scoped>\n",
       "    .dataframe tbody tr th:only-of-type {\n",
       "        vertical-align: middle;\n",
       "    }\n",
       "\n",
       "    .dataframe tbody tr th {\n",
       "        vertical-align: top;\n",
       "    }\n",
       "\n",
       "    .dataframe thead th {\n",
       "        text-align: right;\n",
       "    }\n",
       "</style>\n",
       "<table border=\"1\" class=\"dataframe\">\n",
       "  <thead>\n",
       "    <tr style=\"text-align: right;\">\n",
       "      <th></th>\n",
       "      <th>Unnamed: 0</th>\n",
       "      <th>Content ID</th>\n",
       "      <th>Type</th>\n",
       "      <th>Category</th>\n",
       "    </tr>\n",
       "  </thead>\n",
       "  <tbody>\n",
       "    <tr>\n",
       "      <th>0</th>\n",
       "      <td>0</td>\n",
       "      <td>97522e57-d9ab-4bd6-97bf-c24d952602d2</td>\n",
       "      <td>photo</td>\n",
       "      <td>Studying</td>\n",
       "    </tr>\n",
       "    <tr>\n",
       "      <th>1</th>\n",
       "      <td>1</td>\n",
       "      <td>9f737e0a-3cdd-4d29-9d24-753f4e3be810</td>\n",
       "      <td>photo</td>\n",
       "      <td>healthy eating</td>\n",
       "    </tr>\n",
       "    <tr>\n",
       "      <th>2</th>\n",
       "      <td>2</td>\n",
       "      <td>230c4e4d-70c3-461d-b42c-ec09396efb3f</td>\n",
       "      <td>photo</td>\n",
       "      <td>healthy eating</td>\n",
       "    </tr>\n",
       "    <tr>\n",
       "      <th>3</th>\n",
       "      <td>3</td>\n",
       "      <td>356fff80-da4d-4785-9f43-bc1261031dc6</td>\n",
       "      <td>photo</td>\n",
       "      <td>technology</td>\n",
       "    </tr>\n",
       "    <tr>\n",
       "      <th>4</th>\n",
       "      <td>4</td>\n",
       "      <td>01ab84dd-6364-4236-abbb-3f237db77180</td>\n",
       "      <td>video</td>\n",
       "      <td>food</td>\n",
       "    </tr>\n",
       "  </tbody>\n",
       "</table>\n",
       "</div>"
      ],
      "text/plain": [
       "   Unnamed: 0                            Content ID   Type        Category\n",
       "0           0  97522e57-d9ab-4bd6-97bf-c24d952602d2  photo        Studying\n",
       "1           1  9f737e0a-3cdd-4d29-9d24-753f4e3be810  photo  healthy eating\n",
       "2           2  230c4e4d-70c3-461d-b42c-ec09396efb3f  photo  healthy eating\n",
       "3           3  356fff80-da4d-4785-9f43-bc1261031dc6  photo      technology\n",
       "4           4  01ab84dd-6364-4236-abbb-3f237db77180  video            food"
      ]
     },
     "execution_count": 80,
     "metadata": {},
     "output_type": "execute_result"
    }
   ],
   "source": [
    "Content.head()"
   ]
  },
  {
   "cell_type": "code",
   "execution_count": 81,
   "id": "a1801e18",
   "metadata": {},
   "outputs": [],
   "source": [
    "# To remane the columns\n",
    "Content.rename(columns= {'Unnamed: 0':'SerialNumber', 'Type':'Content Type'}, inplace =True)"
   ]
  },
  {
   "cell_type": "code",
   "execution_count": 82,
   "id": "f5c72a2a",
   "metadata": {},
   "outputs": [
    {
     "data": {
      "text/html": [
       "<div>\n",
       "<style scoped>\n",
       "    .dataframe tbody tr th:only-of-type {\n",
       "        vertical-align: middle;\n",
       "    }\n",
       "\n",
       "    .dataframe tbody tr th {\n",
       "        vertical-align: top;\n",
       "    }\n",
       "\n",
       "    .dataframe thead th {\n",
       "        text-align: right;\n",
       "    }\n",
       "</style>\n",
       "<table border=\"1\" class=\"dataframe\">\n",
       "  <thead>\n",
       "    <tr style=\"text-align: right;\">\n",
       "      <th></th>\n",
       "      <th>SerialNumber</th>\n",
       "      <th>Content ID</th>\n",
       "      <th>Content Type</th>\n",
       "      <th>Category</th>\n",
       "    </tr>\n",
       "  </thead>\n",
       "  <tbody>\n",
       "    <tr>\n",
       "      <th>0</th>\n",
       "      <td>0</td>\n",
       "      <td>97522e57-d9ab-4bd6-97bf-c24d952602d2</td>\n",
       "      <td>photo</td>\n",
       "      <td>Studying</td>\n",
       "    </tr>\n",
       "    <tr>\n",
       "      <th>1</th>\n",
       "      <td>1</td>\n",
       "      <td>9f737e0a-3cdd-4d29-9d24-753f4e3be810</td>\n",
       "      <td>photo</td>\n",
       "      <td>healthy eating</td>\n",
       "    </tr>\n",
       "    <tr>\n",
       "      <th>2</th>\n",
       "      <td>2</td>\n",
       "      <td>230c4e4d-70c3-461d-b42c-ec09396efb3f</td>\n",
       "      <td>photo</td>\n",
       "      <td>healthy eating</td>\n",
       "    </tr>\n",
       "    <tr>\n",
       "      <th>3</th>\n",
       "      <td>3</td>\n",
       "      <td>356fff80-da4d-4785-9f43-bc1261031dc6</td>\n",
       "      <td>photo</td>\n",
       "      <td>technology</td>\n",
       "    </tr>\n",
       "    <tr>\n",
       "      <th>4</th>\n",
       "      <td>4</td>\n",
       "      <td>01ab84dd-6364-4236-abbb-3f237db77180</td>\n",
       "      <td>video</td>\n",
       "      <td>food</td>\n",
       "    </tr>\n",
       "  </tbody>\n",
       "</table>\n",
       "</div>"
      ],
      "text/plain": [
       "   SerialNumber                            Content ID Content Type  \\\n",
       "0             0  97522e57-d9ab-4bd6-97bf-c24d952602d2        photo   \n",
       "1             1  9f737e0a-3cdd-4d29-9d24-753f4e3be810        photo   \n",
       "2             2  230c4e4d-70c3-461d-b42c-ec09396efb3f        photo   \n",
       "3             3  356fff80-da4d-4785-9f43-bc1261031dc6        photo   \n",
       "4             4  01ab84dd-6364-4236-abbb-3f237db77180        video   \n",
       "\n",
       "         Category  \n",
       "0        Studying  \n",
       "1  healthy eating  \n",
       "2  healthy eating  \n",
       "3      technology  \n",
       "4            food  "
      ]
     },
     "execution_count": 82,
     "metadata": {},
     "output_type": "execute_result"
    }
   ],
   "source": [
    "Content.head()"
   ]
  },
  {
   "cell_type": "code",
   "execution_count": 83,
   "id": "2e109473",
   "metadata": {},
   "outputs": [],
   "source": [
    "Reaction = pd.read_csv(r\"C:\\Users\\ayode\\OneDrive\\Desktop\\Reactions_data.csv\")"
   ]
  },
  {
   "cell_type": "code",
   "execution_count": 84,
   "id": "55f1a78e",
   "metadata": {},
   "outputs": [
    {
     "data": {
      "text/html": [
       "<div>\n",
       "<style scoped>\n",
       "    .dataframe tbody tr th:only-of-type {\n",
       "        vertical-align: middle;\n",
       "    }\n",
       "\n",
       "    .dataframe tbody tr th {\n",
       "        vertical-align: top;\n",
       "    }\n",
       "\n",
       "    .dataframe thead th {\n",
       "        text-align: right;\n",
       "    }\n",
       "</style>\n",
       "<table border=\"1\" class=\"dataframe\">\n",
       "  <thead>\n",
       "    <tr style=\"text-align: right;\">\n",
       "      <th></th>\n",
       "      <th>Unnamed: 0</th>\n",
       "      <th>Content ID</th>\n",
       "      <th>User ID</th>\n",
       "      <th>Type</th>\n",
       "      <th>Datetime</th>\n",
       "    </tr>\n",
       "  </thead>\n",
       "  <tbody>\n",
       "    <tr>\n",
       "      <th>0</th>\n",
       "      <td>0</td>\n",
       "      <td>97522e57-d9ab-4bd6-97bf-c24d952602d2</td>\n",
       "      <td>NaN</td>\n",
       "      <td>NaN</td>\n",
       "      <td>22/04/2021 15:17</td>\n",
       "    </tr>\n",
       "    <tr>\n",
       "      <th>1</th>\n",
       "      <td>1</td>\n",
       "      <td>97522e57-d9ab-4bd6-97bf-c24d952602d2</td>\n",
       "      <td>5d454588-283d-459d-915d-c48a2cb4c27f</td>\n",
       "      <td>disgust</td>\n",
       "      <td>07/11/2020 09:43</td>\n",
       "    </tr>\n",
       "    <tr>\n",
       "      <th>2</th>\n",
       "      <td>2</td>\n",
       "      <td>97522e57-d9ab-4bd6-97bf-c24d952602d2</td>\n",
       "      <td>92b87fa5-f271-43e0-af66-84fac21052e6</td>\n",
       "      <td>dislike</td>\n",
       "      <td>17/06/2021 12:22</td>\n",
       "    </tr>\n",
       "    <tr>\n",
       "      <th>3</th>\n",
       "      <td>3</td>\n",
       "      <td>97522e57-d9ab-4bd6-97bf-c24d952602d2</td>\n",
       "      <td>163daa38-8b77-48c9-9af6-37a6c1447ac2</td>\n",
       "      <td>scared</td>\n",
       "      <td>18/04/2021 05:13</td>\n",
       "    </tr>\n",
       "    <tr>\n",
       "      <th>4</th>\n",
       "      <td>4</td>\n",
       "      <td>97522e57-d9ab-4bd6-97bf-c24d952602d2</td>\n",
       "      <td>34e8add9-0206-47fd-a501-037b994650a2</td>\n",
       "      <td>disgust</td>\n",
       "      <td>06/01/2021 19:13</td>\n",
       "    </tr>\n",
       "  </tbody>\n",
       "</table>\n",
       "</div>"
      ],
      "text/plain": [
       "   Unnamed: 0                            Content ID  \\\n",
       "0           0  97522e57-d9ab-4bd6-97bf-c24d952602d2   \n",
       "1           1  97522e57-d9ab-4bd6-97bf-c24d952602d2   \n",
       "2           2  97522e57-d9ab-4bd6-97bf-c24d952602d2   \n",
       "3           3  97522e57-d9ab-4bd6-97bf-c24d952602d2   \n",
       "4           4  97522e57-d9ab-4bd6-97bf-c24d952602d2   \n",
       "\n",
       "                                User ID     Type          Datetime  \n",
       "0                                   NaN      NaN  22/04/2021 15:17  \n",
       "1  5d454588-283d-459d-915d-c48a2cb4c27f  disgust  07/11/2020 09:43  \n",
       "2  92b87fa5-f271-43e0-af66-84fac21052e6  dislike  17/06/2021 12:22  \n",
       "3  163daa38-8b77-48c9-9af6-37a6c1447ac2   scared  18/04/2021 05:13  \n",
       "4  34e8add9-0206-47fd-a501-037b994650a2  disgust  06/01/2021 19:13  "
      ]
     },
     "execution_count": 84,
     "metadata": {},
     "output_type": "execute_result"
    }
   ],
   "source": [
    "Reaction.head()"
   ]
  },
  {
   "cell_type": "code",
   "execution_count": 85,
   "id": "4f3585ba",
   "metadata": {},
   "outputs": [],
   "source": [
    "Reaction.rename(columns= {'Unnamed: 0':'SerialNumber', 'Type':'Reaction Type'}, inplace=True)"
   ]
  },
  {
   "cell_type": "code",
   "execution_count": 86,
   "id": "3e3df8fb",
   "metadata": {},
   "outputs": [
    {
     "data": {
      "text/html": [
       "<div>\n",
       "<style scoped>\n",
       "    .dataframe tbody tr th:only-of-type {\n",
       "        vertical-align: middle;\n",
       "    }\n",
       "\n",
       "    .dataframe tbody tr th {\n",
       "        vertical-align: top;\n",
       "    }\n",
       "\n",
       "    .dataframe thead th {\n",
       "        text-align: right;\n",
       "    }\n",
       "</style>\n",
       "<table border=\"1\" class=\"dataframe\">\n",
       "  <thead>\n",
       "    <tr style=\"text-align: right;\">\n",
       "      <th></th>\n",
       "      <th>SerialNumber</th>\n",
       "      <th>Content ID</th>\n",
       "      <th>User ID</th>\n",
       "      <th>Reaction Type</th>\n",
       "      <th>Datetime</th>\n",
       "    </tr>\n",
       "  </thead>\n",
       "  <tbody>\n",
       "    <tr>\n",
       "      <th>0</th>\n",
       "      <td>0</td>\n",
       "      <td>97522e57-d9ab-4bd6-97bf-c24d952602d2</td>\n",
       "      <td>NaN</td>\n",
       "      <td>NaN</td>\n",
       "      <td>22/04/2021 15:17</td>\n",
       "    </tr>\n",
       "    <tr>\n",
       "      <th>1</th>\n",
       "      <td>1</td>\n",
       "      <td>97522e57-d9ab-4bd6-97bf-c24d952602d2</td>\n",
       "      <td>5d454588-283d-459d-915d-c48a2cb4c27f</td>\n",
       "      <td>disgust</td>\n",
       "      <td>07/11/2020 09:43</td>\n",
       "    </tr>\n",
       "    <tr>\n",
       "      <th>2</th>\n",
       "      <td>2</td>\n",
       "      <td>97522e57-d9ab-4bd6-97bf-c24d952602d2</td>\n",
       "      <td>92b87fa5-f271-43e0-af66-84fac21052e6</td>\n",
       "      <td>dislike</td>\n",
       "      <td>17/06/2021 12:22</td>\n",
       "    </tr>\n",
       "    <tr>\n",
       "      <th>3</th>\n",
       "      <td>3</td>\n",
       "      <td>97522e57-d9ab-4bd6-97bf-c24d952602d2</td>\n",
       "      <td>163daa38-8b77-48c9-9af6-37a6c1447ac2</td>\n",
       "      <td>scared</td>\n",
       "      <td>18/04/2021 05:13</td>\n",
       "    </tr>\n",
       "    <tr>\n",
       "      <th>4</th>\n",
       "      <td>4</td>\n",
       "      <td>97522e57-d9ab-4bd6-97bf-c24d952602d2</td>\n",
       "      <td>34e8add9-0206-47fd-a501-037b994650a2</td>\n",
       "      <td>disgust</td>\n",
       "      <td>06/01/2021 19:13</td>\n",
       "    </tr>\n",
       "  </tbody>\n",
       "</table>\n",
       "</div>"
      ],
      "text/plain": [
       "   SerialNumber                            Content ID  \\\n",
       "0             0  97522e57-d9ab-4bd6-97bf-c24d952602d2   \n",
       "1             1  97522e57-d9ab-4bd6-97bf-c24d952602d2   \n",
       "2             2  97522e57-d9ab-4bd6-97bf-c24d952602d2   \n",
       "3             3  97522e57-d9ab-4bd6-97bf-c24d952602d2   \n",
       "4             4  97522e57-d9ab-4bd6-97bf-c24d952602d2   \n",
       "\n",
       "                                User ID Reaction Type          Datetime  \n",
       "0                                   NaN           NaN  22/04/2021 15:17  \n",
       "1  5d454588-283d-459d-915d-c48a2cb4c27f       disgust  07/11/2020 09:43  \n",
       "2  92b87fa5-f271-43e0-af66-84fac21052e6       dislike  17/06/2021 12:22  \n",
       "3  163daa38-8b77-48c9-9af6-37a6c1447ac2        scared  18/04/2021 05:13  \n",
       "4  34e8add9-0206-47fd-a501-037b994650a2       disgust  06/01/2021 19:13  "
      ]
     },
     "execution_count": 86,
     "metadata": {},
     "output_type": "execute_result"
    }
   ],
   "source": [
    "Reaction.head()"
   ]
  },
  {
   "cell_type": "code",
   "execution_count": 87,
   "id": "164fdc52",
   "metadata": {},
   "outputs": [],
   "source": [
    "Reaction.drop(columns =['SerialNumber','User ID'], axis=1, inplace=True)"
   ]
  },
  {
   "cell_type": "code",
   "execution_count": 88,
   "id": "2044b113",
   "metadata": {},
   "outputs": [
    {
     "data": {
      "text/html": [
       "<div>\n",
       "<style scoped>\n",
       "    .dataframe tbody tr th:only-of-type {\n",
       "        vertical-align: middle;\n",
       "    }\n",
       "\n",
       "    .dataframe tbody tr th {\n",
       "        vertical-align: top;\n",
       "    }\n",
       "\n",
       "    .dataframe thead th {\n",
       "        text-align: right;\n",
       "    }\n",
       "</style>\n",
       "<table border=\"1\" class=\"dataframe\">\n",
       "  <thead>\n",
       "    <tr style=\"text-align: right;\">\n",
       "      <th></th>\n",
       "      <th>Content ID</th>\n",
       "      <th>Reaction Type</th>\n",
       "      <th>Datetime</th>\n",
       "    </tr>\n",
       "  </thead>\n",
       "  <tbody>\n",
       "    <tr>\n",
       "      <th>0</th>\n",
       "      <td>97522e57-d9ab-4bd6-97bf-c24d952602d2</td>\n",
       "      <td>NaN</td>\n",
       "      <td>22/04/2021 15:17</td>\n",
       "    </tr>\n",
       "    <tr>\n",
       "      <th>1</th>\n",
       "      <td>97522e57-d9ab-4bd6-97bf-c24d952602d2</td>\n",
       "      <td>disgust</td>\n",
       "      <td>07/11/2020 09:43</td>\n",
       "    </tr>\n",
       "    <tr>\n",
       "      <th>2</th>\n",
       "      <td>97522e57-d9ab-4bd6-97bf-c24d952602d2</td>\n",
       "      <td>dislike</td>\n",
       "      <td>17/06/2021 12:22</td>\n",
       "    </tr>\n",
       "    <tr>\n",
       "      <th>3</th>\n",
       "      <td>97522e57-d9ab-4bd6-97bf-c24d952602d2</td>\n",
       "      <td>scared</td>\n",
       "      <td>18/04/2021 05:13</td>\n",
       "    </tr>\n",
       "    <tr>\n",
       "      <th>4</th>\n",
       "      <td>97522e57-d9ab-4bd6-97bf-c24d952602d2</td>\n",
       "      <td>disgust</td>\n",
       "      <td>06/01/2021 19:13</td>\n",
       "    </tr>\n",
       "  </tbody>\n",
       "</table>\n",
       "</div>"
      ],
      "text/plain": [
       "                             Content ID Reaction Type          Datetime\n",
       "0  97522e57-d9ab-4bd6-97bf-c24d952602d2           NaN  22/04/2021 15:17\n",
       "1  97522e57-d9ab-4bd6-97bf-c24d952602d2       disgust  07/11/2020 09:43\n",
       "2  97522e57-d9ab-4bd6-97bf-c24d952602d2       dislike  17/06/2021 12:22\n",
       "3  97522e57-d9ab-4bd6-97bf-c24d952602d2        scared  18/04/2021 05:13\n",
       "4  97522e57-d9ab-4bd6-97bf-c24d952602d2       disgust  06/01/2021 19:13"
      ]
     },
     "execution_count": 88,
     "metadata": {},
     "output_type": "execute_result"
    }
   ],
   "source": [
    "Reaction.head()"
   ]
  },
  {
   "cell_type": "code",
   "execution_count": 102,
   "id": "d8fa6a98",
   "metadata": {},
   "outputs": [],
   "source": [
    "ReactionType = pd.read_csv(r\"C:\\Users\\ayode\\OneDrive\\Desktop\\ReactionTypes_data.csv\")"
   ]
  },
  {
   "cell_type": "code",
   "execution_count": 103,
   "id": "6a609a5c",
   "metadata": {},
   "outputs": [
    {
     "data": {
      "text/html": [
       "<div>\n",
       "<style scoped>\n",
       "    .dataframe tbody tr th:only-of-type {\n",
       "        vertical-align: middle;\n",
       "    }\n",
       "\n",
       "    .dataframe tbody tr th {\n",
       "        vertical-align: top;\n",
       "    }\n",
       "\n",
       "    .dataframe thead th {\n",
       "        text-align: right;\n",
       "    }\n",
       "</style>\n",
       "<table border=\"1\" class=\"dataframe\">\n",
       "  <thead>\n",
       "    <tr style=\"text-align: right;\">\n",
       "      <th></th>\n",
       "      <th>Unnamed: 0</th>\n",
       "      <th>Type</th>\n",
       "      <th>Sentiment</th>\n",
       "      <th>Score</th>\n",
       "    </tr>\n",
       "  </thead>\n",
       "  <tbody>\n",
       "    <tr>\n",
       "      <th>0</th>\n",
       "      <td>0</td>\n",
       "      <td>heart</td>\n",
       "      <td>positive</td>\n",
       "      <td>60</td>\n",
       "    </tr>\n",
       "    <tr>\n",
       "      <th>1</th>\n",
       "      <td>1</td>\n",
       "      <td>want</td>\n",
       "      <td>positive</td>\n",
       "      <td>70</td>\n",
       "    </tr>\n",
       "    <tr>\n",
       "      <th>2</th>\n",
       "      <td>2</td>\n",
       "      <td>disgust</td>\n",
       "      <td>negative</td>\n",
       "      <td>0</td>\n",
       "    </tr>\n",
       "    <tr>\n",
       "      <th>3</th>\n",
       "      <td>3</td>\n",
       "      <td>hate</td>\n",
       "      <td>negative</td>\n",
       "      <td>5</td>\n",
       "    </tr>\n",
       "    <tr>\n",
       "      <th>4</th>\n",
       "      <td>4</td>\n",
       "      <td>interested</td>\n",
       "      <td>positive</td>\n",
       "      <td>30</td>\n",
       "    </tr>\n",
       "  </tbody>\n",
       "</table>\n",
       "</div>"
      ],
      "text/plain": [
       "   Unnamed: 0        Type Sentiment  Score\n",
       "0           0       heart  positive     60\n",
       "1           1        want  positive     70\n",
       "2           2     disgust  negative      0\n",
       "3           3        hate  negative      5\n",
       "4           4  interested  positive     30"
      ]
     },
     "execution_count": 103,
     "metadata": {},
     "output_type": "execute_result"
    }
   ],
   "source": [
    "ReactionType.head()"
   ]
  },
  {
   "cell_type": "code",
   "execution_count": 104,
   "id": "6a96433a",
   "metadata": {},
   "outputs": [],
   "source": [
    "ReactionType.rename(columns={'Unnamed: 0': 'SerialNumber','Type': 'Reaction Type'}, inplace=True)"
   ]
  },
  {
   "cell_type": "code",
   "execution_count": 105,
   "id": "7ca4384d",
   "metadata": {},
   "outputs": [],
   "source": [
    "ReactionType.drop(['SerialNumber'], axis=1, inplace=True)"
   ]
  },
  {
   "cell_type": "code",
   "execution_count": 106,
   "id": "16cc9c86",
   "metadata": {},
   "outputs": [
    {
     "data": {
      "text/html": [
       "<div>\n",
       "<style scoped>\n",
       "    .dataframe tbody tr th:only-of-type {\n",
       "        vertical-align: middle;\n",
       "    }\n",
       "\n",
       "    .dataframe tbody tr th {\n",
       "        vertical-align: top;\n",
       "    }\n",
       "\n",
       "    .dataframe thead th {\n",
       "        text-align: right;\n",
       "    }\n",
       "</style>\n",
       "<table border=\"1\" class=\"dataframe\">\n",
       "  <thead>\n",
       "    <tr style=\"text-align: right;\">\n",
       "      <th></th>\n",
       "      <th>Reaction Type</th>\n",
       "      <th>Sentiment</th>\n",
       "      <th>Score</th>\n",
       "    </tr>\n",
       "  </thead>\n",
       "  <tbody>\n",
       "    <tr>\n",
       "      <th>0</th>\n",
       "      <td>heart</td>\n",
       "      <td>positive</td>\n",
       "      <td>60</td>\n",
       "    </tr>\n",
       "    <tr>\n",
       "      <th>1</th>\n",
       "      <td>want</td>\n",
       "      <td>positive</td>\n",
       "      <td>70</td>\n",
       "    </tr>\n",
       "    <tr>\n",
       "      <th>2</th>\n",
       "      <td>disgust</td>\n",
       "      <td>negative</td>\n",
       "      <td>0</td>\n",
       "    </tr>\n",
       "    <tr>\n",
       "      <th>3</th>\n",
       "      <td>hate</td>\n",
       "      <td>negative</td>\n",
       "      <td>5</td>\n",
       "    </tr>\n",
       "    <tr>\n",
       "      <th>4</th>\n",
       "      <td>interested</td>\n",
       "      <td>positive</td>\n",
       "      <td>30</td>\n",
       "    </tr>\n",
       "  </tbody>\n",
       "</table>\n",
       "</div>"
      ],
      "text/plain": [
       "  Reaction Type Sentiment  Score\n",
       "0         heart  positive     60\n",
       "1          want  positive     70\n",
       "2       disgust  negative      0\n",
       "3          hate  negative      5\n",
       "4    interested  positive     30"
      ]
     },
     "execution_count": 106,
     "metadata": {},
     "output_type": "execute_result"
    }
   ],
   "source": [
    "ReactionType.head()"
   ]
  },
  {
   "cell_type": "code",
   "execution_count": 108,
   "id": "7a0426f1",
   "metadata": {},
   "outputs": [],
   "source": [
    "# First merge: Merging Content and Reaction on \"Content ID\"\n",
    "merge1 = pd.merge(left=Content, right=Reaction, how=\"inner\", on=\"Content ID\")"
   ]
  },
  {
   "cell_type": "code",
   "execution_count": 109,
   "id": "bd7ffae3",
   "metadata": {},
   "outputs": [],
   "source": [
    "# Second merge: Merging the result of the first merge with ReactionType on \"Reaction Type\"\n",
    "SocialBuzz_Merge = pd.merge(left=merge1, right=ReactionType, how=\"inner\", on=\"Reaction Type\")"
   ]
  },
  {
   "cell_type": "code",
   "execution_count": 111,
   "id": "15ce0b8f",
   "metadata": {},
   "outputs": [
    {
     "data": {
      "text/html": [
       "<div>\n",
       "<style scoped>\n",
       "    .dataframe tbody tr th:only-of-type {\n",
       "        vertical-align: middle;\n",
       "    }\n",
       "\n",
       "    .dataframe tbody tr th {\n",
       "        vertical-align: top;\n",
       "    }\n",
       "\n",
       "    .dataframe thead th {\n",
       "        text-align: right;\n",
       "    }\n",
       "</style>\n",
       "<table border=\"1\" class=\"dataframe\">\n",
       "  <thead>\n",
       "    <tr style=\"text-align: right;\">\n",
       "      <th></th>\n",
       "      <th>SerialNumber</th>\n",
       "      <th>Content ID</th>\n",
       "      <th>Content Type</th>\n",
       "      <th>Category</th>\n",
       "      <th>Reaction Type</th>\n",
       "      <th>Datetime</th>\n",
       "      <th>Sentiment</th>\n",
       "      <th>Score</th>\n",
       "    </tr>\n",
       "  </thead>\n",
       "  <tbody>\n",
       "    <tr>\n",
       "      <th>0</th>\n",
       "      <td>0</td>\n",
       "      <td>97522e57-d9ab-4bd6-97bf-c24d952602d2</td>\n",
       "      <td>photo</td>\n",
       "      <td>Studying</td>\n",
       "      <td>disgust</td>\n",
       "      <td>07/11/2020 09:43</td>\n",
       "      <td>negative</td>\n",
       "      <td>0</td>\n",
       "    </tr>\n",
       "    <tr>\n",
       "      <th>1</th>\n",
       "      <td>0</td>\n",
       "      <td>97522e57-d9ab-4bd6-97bf-c24d952602d2</td>\n",
       "      <td>photo</td>\n",
       "      <td>Studying</td>\n",
       "      <td>disgust</td>\n",
       "      <td>06/01/2021 19:13</td>\n",
       "      <td>negative</td>\n",
       "      <td>0</td>\n",
       "    </tr>\n",
       "    <tr>\n",
       "      <th>2</th>\n",
       "      <td>0</td>\n",
       "      <td>97522e57-d9ab-4bd6-97bf-c24d952602d2</td>\n",
       "      <td>photo</td>\n",
       "      <td>Studying</td>\n",
       "      <td>disgust</td>\n",
       "      <td>09/04/2021 02:46</td>\n",
       "      <td>negative</td>\n",
       "      <td>0</td>\n",
       "    </tr>\n",
       "    <tr>\n",
       "      <th>3</th>\n",
       "      <td>1</td>\n",
       "      <td>9f737e0a-3cdd-4d29-9d24-753f4e3be810</td>\n",
       "      <td>photo</td>\n",
       "      <td>healthy eating</td>\n",
       "      <td>disgust</td>\n",
       "      <td>28/03/2021 21:15</td>\n",
       "      <td>negative</td>\n",
       "      <td>0</td>\n",
       "    </tr>\n",
       "    <tr>\n",
       "      <th>4</th>\n",
       "      <td>2</td>\n",
       "      <td>230c4e4d-70c3-461d-b42c-ec09396efb3f</td>\n",
       "      <td>photo</td>\n",
       "      <td>healthy eating</td>\n",
       "      <td>disgust</td>\n",
       "      <td>04/08/2020 05:40</td>\n",
       "      <td>negative</td>\n",
       "      <td>0</td>\n",
       "    </tr>\n",
       "  </tbody>\n",
       "</table>\n",
       "</div>"
      ],
      "text/plain": [
       "   SerialNumber                            Content ID Content Type  \\\n",
       "0             0  97522e57-d9ab-4bd6-97bf-c24d952602d2        photo   \n",
       "1             0  97522e57-d9ab-4bd6-97bf-c24d952602d2        photo   \n",
       "2             0  97522e57-d9ab-4bd6-97bf-c24d952602d2        photo   \n",
       "3             1  9f737e0a-3cdd-4d29-9d24-753f4e3be810        photo   \n",
       "4             2  230c4e4d-70c3-461d-b42c-ec09396efb3f        photo   \n",
       "\n",
       "         Category Reaction Type          Datetime Sentiment  Score  \n",
       "0        Studying       disgust  07/11/2020 09:43  negative      0  \n",
       "1        Studying       disgust  06/01/2021 19:13  negative      0  \n",
       "2        Studying       disgust  09/04/2021 02:46  negative      0  \n",
       "3  healthy eating       disgust  28/03/2021 21:15  negative      0  \n",
       "4  healthy eating       disgust  04/08/2020 05:40  negative      0  "
      ]
     },
     "execution_count": 111,
     "metadata": {},
     "output_type": "execute_result"
    }
   ],
   "source": [
    "SocialBuzz_Merge.head()"
   ]
  },
  {
   "cell_type": "code",
   "execution_count": 112,
   "id": "ab1be348",
   "metadata": {},
   "outputs": [
    {
     "data": {
      "text/plain": [
       "(24573, 8)"
      ]
     },
     "execution_count": 112,
     "metadata": {},
     "output_type": "execute_result"
    }
   ],
   "source": [
    "SocialBuzz_Merge.shape"
   ]
  },
  {
   "cell_type": "code",
   "execution_count": 115,
   "id": "325b70a9",
   "metadata": {},
   "outputs": [
    {
     "name": "stdout",
     "output_type": "stream",
     "text": [
      "<class 'pandas.core.frame.DataFrame'>\n",
      "Int64Index: 24573 entries, 0 to 24572\n",
      "Data columns (total 8 columns):\n",
      " #   Column         Non-Null Count  Dtype \n",
      "---  ------         --------------  ----- \n",
      " 0   SerialNumber   24573 non-null  int64 \n",
      " 1   Content ID     24573 non-null  object\n",
      " 2   Content Type   24573 non-null  object\n",
      " 3   Category       24573 non-null  object\n",
      " 4   Reaction Type  24573 non-null  object\n",
      " 5   Datetime       24573 non-null  object\n",
      " 6   Sentiment      24573 non-null  object\n",
      " 7   Score          24573 non-null  int64 \n",
      "dtypes: int64(2), object(6)\n",
      "memory usage: 1.7+ MB\n"
     ]
    }
   ],
   "source": [
    "SocialBuzz_Merge.info()"
   ]
  },
  {
   "cell_type": "code",
   "execution_count": 117,
   "id": "97463b86",
   "metadata": {},
   "outputs": [
    {
     "data": {
      "text/plain": [
       "SerialNumber     0\n",
       "Content ID       0\n",
       "Content Type     0\n",
       "Category         0\n",
       "Reaction Type    0\n",
       "Datetime         0\n",
       "Sentiment        0\n",
       "Score            0\n",
       "dtype: int64"
      ]
     },
     "execution_count": 117,
     "metadata": {},
     "output_type": "execute_result"
    }
   ],
   "source": [
    "SocialBuzz_Merge.isnull().sum()"
   ]
  },
  {
   "cell_type": "code",
   "execution_count": 120,
   "id": "0af4bce1",
   "metadata": {},
   "outputs": [
    {
     "data": {
      "text/plain": [
       "False    24573\n",
       "dtype: int64"
      ]
     },
     "execution_count": 120,
     "metadata": {},
     "output_type": "execute_result"
    }
   ],
   "source": [
    "SocialBuzz_Merge.duplicated().value_counts()"
   ]
  }
 ],
 "metadata": {
  "kernelspec": {
   "display_name": "Python 3 (ipykernel)",
   "language": "python",
   "name": "python3"
  },
  "language_info": {
   "codemirror_mode": {
    "name": "ipython",
    "version": 3
   },
   "file_extension": ".py",
   "mimetype": "text/x-python",
   "name": "python",
   "nbconvert_exporter": "python",
   "pygments_lexer": "ipython3",
   "version": "3.9.12"
  }
 },
 "nbformat": 4,
 "nbformat_minor": 5
}
